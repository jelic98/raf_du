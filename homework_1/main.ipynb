{
  "nbformat": 4,
  "nbformat_minor": 0,
  "metadata": {
    "colab": {
      "name": "DU - Domaci 1.ipynb",
      "provenance": [],
      "collapsed_sections": []
    },
    "kernelspec": {
      "name": "python3",
      "display_name": "Python 3"
    }
  },
  "cells": [
    {
      "cell_type": "code",
      "metadata": {
        "id": "z-1U6c2WQhe6"
      },
      "source": [
        "path_root = '/content/drive/My Drive/Colab Notebooks/DU/data/'\n",
        "path_augment = path_root + 'augment/'\n",
        "path_log = path_root + 'log/'\n",
        "path_model = path_root + 'model'\n",
        "path_zip = path_root + 'Coronahack-Chest-XRay-Dataset.zip'\n",
        "path_unzip = path_root + 'Coronahack-Chest-XRay-Dataset/'\n",
        "path_csv = path_unzip + 'Chest_xray_Corona_Metadata.csv'\n",
        "path_train = path_unzip + 'Coronahack-Chest-XRay-Dataset/Coronahack-Chest-XRay-Dataset/train/'\n",
        "path_test = path_unzip + 'Coronahack-Chest-XRay-Dataset/Coronahack-Chest-XRay-Dataset/test/'"
      ],
      "execution_count": 19,
      "outputs": []
    },
    {
      "cell_type": "code",
      "metadata": {
        "id": "hjltyg4eJFZC"
      },
      "source": [
        "#!unzip '{path_zip}' -d '{path_unzip}'"
      ],
      "execution_count": 20,
      "outputs": []
    },
    {
      "cell_type": "code",
      "metadata": {
        "id": "b5ODhUw2BMsb"
      },
      "source": [
        "import time\n",
        "import cv2\n",
        "import numpy as np\n",
        "import pandas as pd\n",
        "import tensorflow as tf\n",
        "import tensorflow.python.util.deprecation as deprecation\n",
        "import matplotlib.pyplot as plt\n",
        "from keras.models import Sequential\n",
        "from keras.layers import Dense, Dropout, Flatten\n",
        "from keras.layers import Conv2D, MaxPool2D\n",
        "from keras.preprocessing.image import ImageDataGenerator\n",
        "from sklearn.utils import class_weight\n",
        "from sklearn.metrics import confusion_matrix\n",
        "from sklearn.metrics import classification_report"
      ],
      "execution_count": 21,
      "outputs": []
    },
    {
      "cell_type": "code",
      "metadata": {
        "id": "E66eLbgB-hY-",
        "outputId": "00d0fadc-a62a-4be7-b7f4-35d871c4dc04",
        "colab": {
          "base_uri": "https://localhost:8080/"
        }
      },
      "source": [
        "%load_ext tensorboard\n",
        "deprecation._PRINT_DEPRECATION_WARNINGS = False\n",
        "pd.options.mode.chained_assignment = None"
      ],
      "execution_count": 22,
      "outputs": [
        {
          "output_type": "stream",
          "text": [
            "The tensorboard extension is already loaded. To reload it, use:\n",
            "  %reload_ext tensorboard\n"
          ],
          "name": "stdout"
        }
      ]
    },
    {
      "cell_type": "code",
      "metadata": {
        "id": "g1u93yoebV9B"
      },
      "source": [
        "class Dataset():\n",
        "    def __init__(self, classes):\n",
        "        self.shape = (224, 224)\n",
        "        self.classes = classes\n",
        "        self.class_trans = {}\n",
        "        for i, c in enumerate(self.classes):\n",
        "            self.class_trans[c], self.class_trans[i] = i, c\n",
        "\n",
        "\n",
        "    def load(self):\n",
        "        df = pd.read_csv(path_csv)#.tail(700).head(100)\n",
        "        df = df.drop(columns=['Unnamed: 0', 'Label_1_Virus_category', 'Label_2_Virus_category'])\n",
        "        df = df.rename(columns={'X_ray_image_name':'x', 'Label':'y'})\n",
        "\n",
        "        train_mask = df['Dataset_type'] == 'TRAIN'\n",
        "        self.xy_train, self.xy_test = df[train_mask], df[~train_mask]\n",
        "\n",
        "        self.xy_train['x'] = path_train + self.xy_train['x']\n",
        "        self.xy_test['x'] = path_test + self.xy_test['x']\n",
        "\n",
        "        self.y_test = self.xy_test['y'].apply(lambda x: self.class_trans[x])"
      ],
      "execution_count": 23,
      "outputs": []
    },
    {
      "cell_type": "code",
      "metadata": {
        "id": "FVoZTZ5DAZ8_",
        "outputId": "c297952d-8906-4272-ea87-f37209c4d2eb",
        "colab": {
          "base_uri": "https://localhost:8080/"
        }
      },
      "source": [
        "%%time\n",
        "dataset = Dataset(['Normal', 'Pnemonia'])\n",
        "dataset.load()"
      ],
      "execution_count": 24,
      "outputs": [
        {
          "output_type": "stream",
          "text": [
            "CPU times: user 18.1 ms, sys: 2 ms, total: 20.1 ms\n",
            "Wall time: 23.7 ms\n"
          ],
          "name": "stdout"
        }
      ]
    },
    {
      "cell_type": "code",
      "metadata": {
        "id": "VEzmb3pj7QwM"
      },
      "source": [
        "class Model():\n",
        "    def __init__(self, data, epochs=2, batch_size=128, learning_rate=0.01):\n",
        "        self.data = data\n",
        "        self.epochs = epochs\n",
        "        self.batch_size = batch_size\n",
        "        self.learning_rate = learning_rate\n",
        "\n",
        "\n",
        "    def build(self):\n",
        "        self.model = Sequential()\n",
        "        self.model.add(Conv2D(filters=96, kernel_size=11, strides=4, activation='relu'))\n",
        "        self.model.add(MaxPool2D(pool_size=3, strides=2))\n",
        "        self.model.add(Conv2D(filters=256, kernel_size=5, padding='same', activation='relu'))\n",
        "        self.model.add(MaxPool2D(pool_size=3, strides=2))\n",
        "        self.model.add(Conv2D(filters=384, kernel_size=3, padding='same', activation='relu'))\n",
        "        self.model.add(Conv2D(filters=384, kernel_size=3, padding='same', activation='relu'))\n",
        "        self.model.add(Conv2D(filters=256, kernel_size=3, padding='same', activation='relu'))\n",
        "        self.model.add(MaxPool2D(pool_size=3, strides=2))\n",
        "        self.model.add(Flatten())\n",
        "        self.model.add(Dense(4096, activation='relu'))\n",
        "        self.model.add(Dropout(0.5))\n",
        "        self.model.add(Dense(4096, activation='relu'))\n",
        "        self.model.add(Dropout(0.5))\n",
        "        self.model.add(Dense(len(self.data.classes) // 2))\n",
        "        self.model.compile(loss='binary_crossentropy', optimizer='Adam', metrics=['accuracy'])\n",
        "\n",
        "\n",
        "    def fit(self):\n",
        "        tensorboard_callback = tf.keras.callbacks.TensorBoard(path_log, histogram_freq=1)\n",
        "\n",
        "        train_flow, test_flow = self._flow(self.data.xy_train), self._flow(self.data.xy_test)\n",
        "\n",
        "        class_weights = class_weight.compute_class_weight('balanced', self.data.classes, self.data.xy_train['y'])\n",
        "        class_weights = dict(zip(range(len(self.data.classes)), class_weights))\n",
        "\n",
        "        self.model.fit(train_flow,\n",
        "                       batch_size=self.batch_size,\n",
        "                       epochs=self.epochs,\n",
        "                       callbacks=[tensorboard_callback],\n",
        "                       validation_data=test_flow,\n",
        "                       class_weight=class_weights)\n",
        "        \n",
        "\n",
        "    def predict(self):\n",
        "        test_flow = self._flow(self.data.xy_test)\n",
        "        y_pred = self.model.predict_classes(test_flow)\n",
        "        \n",
        "        cr = classification_report(self.data.y_test, y_pred, target_names=self.data.classes)\n",
        "        print(cr)\n",
        "\n",
        "        cm = confusion_matrix(self.data.y_test, y_pred)\n",
        "        plt.matshow(cm)\n",
        "        plt.colorbar()\n",
        "        plt.xlabel('Predicted')\n",
        "        plt.ylabel('Actual')\n",
        "        plt.show()\n",
        "\n",
        "\n",
        "    def save(self):\n",
        "        self.model.save(path_model)\n",
        "\n",
        "    \n",
        "    def board(self):\n",
        "        %tensorboard --logdir '{path_log}'\n",
        "\n",
        "\n",
        "    def _flow(self, df):\n",
        "        gen = ImageDataGenerator(rotation_range=15, zoom_range=0.25)\n",
        "        return gen.flow_from_dataframe(dataframe=df,\n",
        "                                       x_col='x',\n",
        "                                       y_col='y',\n",
        "                                       target_size=self.data.shape,\n",
        "                                       color_mode='grayscale',\n",
        "                                       classes=self.data.classes,\n",
        "                                       class_mode='binary',\n",
        "                                       batch_size=self.batch_size,\n",
        "                                       save_to_dir=path_augment,\n",
        "                                       save_prefix='aug',\n",
        "                                       save_format='jpeg')"
      ],
      "execution_count": 25,
      "outputs": []
    },
    {
      "cell_type": "code",
      "metadata": {
        "id": "zg3YG8ICniDf"
      },
      "source": [
        "!rm -rf '{path_augment}' && mkdir '{path_augment}'"
      ],
      "execution_count": 26,
      "outputs": []
    },
    {
      "cell_type": "code",
      "metadata": {
        "id": "3IDM_TQrAXJN",
        "outputId": "7acdc644-173d-4295-f72d-b3e79f0e1f4a",
        "colab": {
          "base_uri": "https://localhost:8080/"
        }
      },
      "source": [
        "%%time\n",
        "model = Model(dataset)\n",
        "model.build()\n",
        "model.fit()\n",
        "model.predict()\n",
        "model.save()\n",
        "model.board()"
      ],
      "execution_count": null,
      "outputs": [
        {
          "output_type": "stream",
          "text": [
            "Found 5286 validated image filenames belonging to 2 classes.\n",
            "Found 624 validated image filenames belonging to 2 classes.\n",
            "Epoch 1/2\n",
            " 8/42 [====>.........................] - ETA: 38:33 - loss: 8.0021 - accuracy: 0.6963"
          ],
          "name": "stdout"
        }
      ]
    }
  ]
}